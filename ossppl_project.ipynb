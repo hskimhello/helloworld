{
  "nbformat": 4,
  "nbformat_minor": 0,
  "metadata": {
    "colab": {
      "name": "ossppl_project.ipynb",
      "provenance": [],
      "collapsed_sections": [
        "NUD-hySm_uPc"
      ],
      "include_colab_link": true
    },
    "kernelspec": {
      "name": "python3",
      "display_name": "Python 3"
    }
  },
  "cells": [
    {
      "cell_type": "markdown",
      "metadata": {
        "id": "view-in-github",
        "colab_type": "text"
      },
      "source": [
        "<a href=\"https://colab.research.google.com/github/1015s/helloworld/blob/main/ossppl_project.ipynb\" target=\"_parent\"><img src=\"https://colab.research.google.com/assets/colab-badge.svg\" alt=\"Open In Colab\"/></a>"
      ]
    },
    {
      "cell_type": "markdown",
      "metadata": {
        "id": "NUD-hySm_uPc"
      },
      "source": [
        "# **Open Source SW and Python Programming Project: Implementation of Subway Navigation**\n",
        "\n",
        "In this project, you will implement a navigation system for Seoul subway stations, especially **step by step**\n",
        "\n",
        "\n"
      ]
    },
    {
      "cell_type": "markdown",
      "metadata": {
        "id": "uUsnepoeAhVl"
      },
      "source": [
        "# 0. Initialization\n",
        "\n",
        "Read subway station information by reading the file **simplified_subway_info.xlsx**\n",
        "*  The excel file contains subway station information of Seoul subway line 1 ~ 4\n",
        "*  When you execute this sourcecode, you MUST upload these files in your Colab runtime environment\n",
        "*   **MUST NOT** change this Initialization code cell"
      ]
    },
    {
      "cell_type": "code",
      "metadata": {
        "id": "qnbOlA6o_mIl"
      },
      "source": [
        "import xlrd\n",
        "\n",
        "# Read data file\n",
        "data = xlrd.open_workbook(\"simplified_subway_info.xlsx\")\n",
        "data = data.sheet_by_name('Sheet1')\n",
        "\n",
        "# Store the loaded book object as a string list in subwayStation variable\n",
        "subwayStation = []\n",
        "for line in range(4) :\n",
        "    cur = [x for x in data.col_values(line) if x]    \n",
        "    subwayStation.append(cur[1:])"
      ],
      "execution_count": 1,
      "outputs": []
    },
    {
      "cell_type": "markdown",
      "metadata": {
        "id": "DBXU61Tn_vKS"
      },
      "source": [
        "# 1. Your implementation\n",
        "Let's start the implementation of a subway naviation system by using the loaded subway station information :)\n",
        "\n",
        "*   You can access the subway station information by referring to **subwayStation** variable (list type)"
      ]
    },
    {
      "cell_type": "code",
      "metadata": {
        "id": "IrOR6qD2J9cN"
      },
      "source": [
        ""
      ],
      "execution_count": null,
      "outputs": []
    },
    {
      "cell_type": "code",
      "metadata": {
        "id": "7h-scy6AI8Re",
        "colab": {
          "base_uri": "https://localhost:8080/"
        },
        "outputId": "305b165d-e3f3-46d5-fd49-214cda88dcf6"
      },
      "source": [
        "def star() :\n",
        "  for i in range (50) :\n",
        "   print ('*', end = '')\n",
        "  print('*')\n",
        "\n",
        "star()\n",
        "\n",
        "print('1. Display subway line information (Line 1~4)')\n",
        "print('2. Display subway station information')\n",
        "print('3. Exit')\n",
        "\n",
        "star()\n",
        "\n",
        "while True :\n",
        "  \n",
        "  option = int(input('Please choose one of the options (1-3) :'))\n",
        "  \n",
        "  if option == 1 :\n",
        "    star()\n",
        "    print('Subway line information service')\n",
        "    star()\n",
        "\n",
        "    while True :\n",
        "      linenumber = int(input('>>Please enter a subway line number (1-4) :'))\n",
        "\n",
        "      if linenumber == 1 :\n",
        "        print(subwayStation[0])\n",
        "        break\n",
        "      elif linenumber == 2 :\n",
        "        print(subwayStation[1])\n",
        "        break\n",
        "      elif linenumber == 3 :\n",
        "        print(subwayStation[2])\n",
        "        break\n",
        "      elif linenumber == 4 :\n",
        "        print(subwayStation[3])\n",
        "        break\n",
        "\n",
        "  if option == 2 :\n",
        "    star()\n",
        "    print('Subway line information service')\n",
        "    star()\n",
        "\n",
        "    while True :\n",
        "      stationname = input('>> Please enter a subway station name :')\n",
        "\n",
        "      flag = 0\n",
        "\n",
        "      for i in range(4) :\n",
        "        if stationname in subwayStation[i] :\n",
        "          if flag == 0 :\n",
        "            print(stationname,'station is in Line',i+1,end = \"\")\n",
        "            flag = 1\n",
        "          else :\n",
        "            print(' and', i+1 , end = \"\")\n",
        "            print()\n",
        "      break\n",
        "    \n",
        "\n",
        "  if option == 3 :\n",
        "    break\n",
        "\n",
        "\n",
        "   \n",
        "\n",
        "\n",
        "\n",
        "\n",
        "\n",
        "\n",
        "\n",
        "\n",
        "\n",
        "\n",
        "\n"
      ],
      "execution_count": null,
      "outputs": [
        {
          "output_type": "stream",
          "text": [
            "***************************************************\n",
            "1. Display subway line information (Line 1~4)\n",
            "2. Display subway station information\n",
            "3. Exit\n",
            "***************************************************\n",
            "Please choose one of the options (1-3) :2\n",
            "***************************************************\n",
            "Subway line information service\n",
            "***************************************************\n",
            ">> Please enter a subway station name :소요산\n",
            "소요산 station is in Line 1"
          ],
          "name": "stdout"
        }
      ]
    }
  ]
}