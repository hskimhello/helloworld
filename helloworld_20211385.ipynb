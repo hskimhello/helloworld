{
  "nbformat": 4,
  "nbformat_minor": 0,
  "metadata": {
    "colab": {
      "name": "helloworld_20211385.ipynb",
      "provenance": []
    },
    "kernelspec": {
      "name": "python3",
      "display_name": "Python 3"
    },
    "language_info": {
      "name": "python"
    }
  },
  "cells": [
    {
      "cell_type": "code",
      "metadata": {
        "colab": {
          "base_uri": "https://localhost:8080/"
        },
        "id": "i9-aQcdkQWNa",
        "outputId": "1cb2f409-2941-4fc6-fbc0-1fb1ff7b6145"
      },
      "source": [
        "print(\"hello world!!\")\n",
        "id = 20211385\n",
        "print(id)"
      ],
      "execution_count": null,
      "outputs": [
        {
          "output_type": "stream",
          "text": [
            "hello world!!\n",
            "20211385\n"
          ],
          "name": "stdout"
        }
      ]
    }
  ]
}