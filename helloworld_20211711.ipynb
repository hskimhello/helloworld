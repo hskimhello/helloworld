{
  "nbformat": 4,
  "nbformat_minor": 0,
  "metadata": {
    "colab": {
      "name": "helloworld_20211711.ipynb",
      "provenance": [],
      "authorship_tag": "ABX9TyOsDIlUFG86I6q9Qh5fMfNh",
      "include_colab_link": true
    },
    "kernelspec": {
      "name": "python3",
      "display_name": "Python 3"
    },
    "language_info": {
      "name": "python"
    }
  },
  "cells": [
    {
      "cell_type": "markdown",
      "metadata": {
        "id": "view-in-github",
        "colab_type": "text"
      },
      "source": [
        "<a href=\"https://colab.research.google.com/github/KwnaheeJo/helloworld/blob/main/helloworld_20211711.ipynb\" target=\"_parent\"><img src=\"https://colab.research.google.com/assets/colab-badge.svg\" alt=\"Open In Colab\"/></a>"
      ]
    },
    {
      "cell_type": "code",
      "metadata": {
        "colab": {
          "base_uri": "https://localhost:8080/"
        },
        "id": "UKiyI0ZvNlIC",
        "outputId": "53b329a6-ac80-4f0f-9208-bc9bf38d1463"
      },
      "source": [
        "print(\"Hello world!!\")\n",
        "id=20211711\n",
        "print(id)"
      ],
      "execution_count": 1,
      "outputs": [
        {
          "output_type": "stream",
          "text": [
            "Hello world!!\n",
            "20211711\n"
          ],
          "name": "stdout"
        }
      ]
    }
  ]
}