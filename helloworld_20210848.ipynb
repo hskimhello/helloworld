{
  "nbformat": 4,
  "nbformat_minor": 0,
  "metadata": {
    "colab": {
      "name": "helloworld_20210848.ipynb",
      "provenance": [],
      "authorship_tag": "ABX9TyPxs7V6/3SoxhPqSqzjrbCp",
      "include_colab_link": true
    },
    "kernelspec": {
      "name": "python3",
      "display_name": "Python 3"
    },
    "language_info": {
      "name": "python"
    }
  },
  "cells": [
    {
      "cell_type": "markdown",
      "metadata": {
        "id": "view-in-github",
        "colab_type": "text"
      },
      "source": [
        "<a href=\"https://colab.research.google.com/github/hardlyPw/helloworld-1/blob/main/helloworld_20210848.ipynb\" target=\"_parent\"><img src=\"https://colab.research.google.com/assets/colab-badge.svg\" alt=\"Open In Colab\"/></a>"
      ]
    },
    {
      "cell_type": "code",
      "metadata": {
        "id": "-QjolA4qU0JE"
      },
      "source": [
        "print(\"Hello world!!\")\n",
        "id=20210848\n",
        "print(id)"
      ],
      "execution_count": null,
      "outputs": []
    }
  ]
}