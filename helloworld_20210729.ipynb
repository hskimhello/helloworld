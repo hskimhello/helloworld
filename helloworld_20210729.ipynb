{
  "nbformat": 4,
  "nbformat_minor": 0,
  "metadata": {
    "colab": {
      "name": "helloworld_20210729.ipynb",
      "provenance": [],
      "authorship_tag": "ABX9TyOWmpbg399+wxoT6fTvL9eB",
      "include_colab_link": true
    },
    "kernelspec": {
      "name": "python3",
      "display_name": "Python 3"
    },
    "language_info": {
      "name": "python"
    }
  },
  "cells": [
    {
      "cell_type": "markdown",
      "metadata": {
        "id": "view-in-github",
        "colab_type": "text"
      },
      "source": [
        "<a href=\"https://colab.research.google.com/github/kjy5286/helloworld/blob/main/helloworld_20210729.ipynb\" target=\"_parent\"><img src=\"https://colab.research.google.com/assets/colab-badge.svg\" alt=\"Open In Colab\"/></a>"
      ]
    },
    {
      "cell_type": "code",
      "metadata": {
        "colab": {
          "base_uri": "https://localhost:8080/"
        },
        "id": "HOvaf4cpmPbU",
        "outputId": "e2f79a4c-4de3-4d33-e9c2-f372902afa0d"
      },
      "source": [
        "print('Hello world!!')\n",
        "id = 20210729\n",
        "print(id)"
      ],
      "execution_count": 1,
      "outputs": [
        {
          "output_type": "stream",
          "text": [
            "Hello world!!\n",
            "20210729\n"
          ],
          "name": "stdout"
        }
      ]
    }
  ]
}