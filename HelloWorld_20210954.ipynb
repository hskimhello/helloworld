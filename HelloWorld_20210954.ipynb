{
  "nbformat": 4,
  "nbformat_minor": 0,
  "metadata": {
    "colab": {
      "name": "HelloWorld_20210954.ipynb",
      "provenance": [],
      "authorship_tag": "ABX9TyNyZyghuA0KBmWpapxVboHe",
      "include_colab_link": true
    },
    "kernelspec": {
      "name": "python3",
      "display_name": "Python 3"
    },
    "language_info": {
      "name": "python"
    }
  },
  "cells": [
    {
      "cell_type": "markdown",
      "metadata": {
        "id": "view-in-github",
        "colab_type": "text"
      },
      "source": [
        "<a href=\"https://colab.research.google.com/github/david010420/helloworld/blob/main/HelloWorld_20210954.ipynb\" target=\"_parent\"><img src=\"https://colab.research.google.com/assets/colab-badge.svg\" alt=\"Open In Colab\"/></a>"
      ]
    },
    {
      "cell_type": "code",
      "metadata": {
        "colab": {
          "base_uri": "https://localhost:8080/"
        },
        "id": "t1BWmatxv0Cq",
        "outputId": "4b6794ca-982a-4d60-ed8c-8ca3894a6c8d"
      },
      "source": [
        "print('Hello World')\n",
        "id=20210954\n",
        "print(id)"
      ],
      "execution_count": 2,
      "outputs": [
        {
          "output_type": "stream",
          "text": [
            "Hello World\n",
            "20210954\n"
          ],
          "name": "stdout"
        }
      ]
    }
  ]
}