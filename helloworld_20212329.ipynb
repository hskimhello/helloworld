{
  "nbformat": 4,
  "nbformat_minor": 0,
  "metadata": {
    "colab": {
      "name": "helloworld_20212329.ipynb",
      "provenance": [],
      "authorship_tag": "ABX9TyO8gtvl+f0+0kzLpEhJEJpe",
      "include_colab_link": true
    },
    "kernelspec": {
      "name": "python3",
      "display_name": "Python 3"
    },
    "language_info": {
      "name": "python"
    }
  },
  "cells": [
    {
      "cell_type": "markdown",
      "metadata": {
        "id": "view-in-github",
        "colab_type": "text"
      },
      "source": [
        "<a href=\"https://colab.research.google.com/github/klee9/helloworld/blob/main/helloworld_20212329.ipynb\" target=\"_parent\"><img src=\"https://colab.research.google.com/assets/colab-badge.svg\" alt=\"Open In Colab\"/></a>"
      ]
    },
    {
      "cell_type": "code",
      "metadata": {
        "colab": {
          "base_uri": "https://localhost:8080/"
        },
        "id": "WRJoT2Zi55al",
        "outputId": "e99dcb8f-3c47-41b1-9647-da66a2c01fd2"
      },
      "source": [
        "print(\"Hello world!\")\n",
        "id = 20212329\n",
        "print(id)"
      ],
      "execution_count": 1,
      "outputs": [
        {
          "output_type": "stream",
          "text": [
            "Hello world!\n",
            "20212329\n"
          ],
          "name": "stdout"
        }
      ]
    }
  ]
}