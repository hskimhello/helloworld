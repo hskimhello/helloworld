{
  "nbformat": 4,
  "nbformat_minor": 0,
  "metadata": {
    "colab": {
      "name": "helloworld_20154521.ipynb",
      "provenance": [],
      "authorship_tag": "ABX9TyPFcegtlpBXqgzVn7aQD4FK",
      "include_colab_link": true
    },
    "kernelspec": {
      "name": "python3",
      "display_name": "Python 3"
    },
    "language_info": {
      "name": "python"
    }
  },
  "cells": [
    {
      "cell_type": "markdown",
      "metadata": {
        "id": "view-in-github",
        "colab_type": "text"
      },
      "source": [
        "<a href=\"https://colab.research.google.com/github/cmichael231117/helloworld/blob/main/helloworld_20154521.ipynb\" target=\"_parent\"><img src=\"https://colab.research.google.com/assets/colab-badge.svg\" alt=\"Open In Colab\"/></a>"
      ]
    },
    {
      "cell_type": "code",
      "metadata": {
        "colab": {
          "base_uri": "https://localhost:8080/"
        },
        "id": "tIMW47M02wLH",
        "outputId": "9257ed51-6c99-4880-b8e9-7dd1ae3bd4ed"
      },
      "source": [
        "print(\"Hello world!!\")\n",
        "id = 20154521\n",
        "print(id)"
      ],
      "execution_count": 1,
      "outputs": [
        {
          "output_type": "stream",
          "text": [
            "Hello world!!\n",
            "20154521\n"
          ],
          "name": "stdout"
        }
      ]
    }
  ]
}