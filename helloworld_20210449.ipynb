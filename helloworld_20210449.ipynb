{
  "nbformat": 4,
  "nbformat_minor": 0,
  "metadata": {
    "colab": {
      "name": "helloworld_20210449.ipynb",
      "provenance": [],
      "authorship_tag": "ABX9TyMD96Qy5vQ4M1bqDOQ8F5P/",
      "include_colab_link": true
    },
    "kernelspec": {
      "name": "python3",
      "display_name": "Python 3"
    },
    "language_info": {
      "name": "python"
    }
  },
  "cells": [
    {
      "cell_type": "markdown",
      "metadata": {
        "id": "view-in-github",
        "colab_type": "text"
      },
      "source": [
        "<a href=\"https://colab.research.google.com/github/junseolee1011/helloworld/blob/main/helloworld_20210449.ipynb\" target=\"_parent\"><img src=\"https://colab.research.google.com/assets/colab-badge.svg\" alt=\"Open In Colab\"/></a>"
      ]
    },
    {
      "cell_type": "code",
      "metadata": {
        "colab": {
          "base_uri": "https://localhost:8080/"
        },
        "id": "nYacw2FJ5UKw",
        "outputId": "d03dc988-47ed-4a0e-91de-60e4054a5860"
      },
      "source": [
        "print('hello world')\n",
        "id =20210449\n",
        "print (id)"
      ],
      "execution_count": 2,
      "outputs": [
        {
          "output_type": "stream",
          "text": [
            "hello world\n",
            "20210449\n"
          ],
          "name": "stdout"
        }
      ]
    }
  ]
}