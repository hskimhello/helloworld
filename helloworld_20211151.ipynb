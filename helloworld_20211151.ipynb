{
  "nbformat": 4,
  "nbformat_minor": 0,
  "metadata": {
    "colab": {
      "name": "helloworld_20211151.ipynb",
      "provenance": [],
      "authorship_tag": "ABX9TyNVeRUhfDOcUCHEV8S2V86g",
      "include_colab_link": true
    },
    "kernelspec": {
      "name": "python3",
      "display_name": "Python 3"
    },
    "language_info": {
      "name": "python"
    }
  },
  "cells": [
    {
      "cell_type": "markdown",
      "metadata": {
        "id": "view-in-github",
        "colab_type": "text"
      },
      "source": [
        "<a href=\"https://colab.research.google.com/github/pjw-redt/helloworld/blob/main/helloworld_20211151.ipynb\" target=\"_parent\"><img src=\"https://colab.research.google.com/assets/colab-badge.svg\" alt=\"Open In Colab\"/></a>"
      ]
    },
    {
      "cell_type": "code",
      "metadata": {
        "id": "yuup4yenML6-"
      },
      "source": [
        "print(\"helloworld!!\")\n",
        "id=20211151\n",
        "print(id)"
      ],
      "execution_count": null,
      "outputs": []
    }
  ]
}