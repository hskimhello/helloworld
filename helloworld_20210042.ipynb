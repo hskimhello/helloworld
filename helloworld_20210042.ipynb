{
  "nbformat": 4,
  "nbformat_minor": 0,
  "metadata": {
    "colab": {
      "name": "helloworld_20210042.ipynb",
      "provenance": [],
      "authorship_tag": "ABX9TyMB5pj3IpgEhChW7qr86wd6",
      "include_colab_link": true
    },
    "kernelspec": {
      "name": "python3",
      "display_name": "Python 3"
    },
    "language_info": {
      "name": "python"
    }
  },
  "cells": [
    {
      "cell_type": "markdown",
      "metadata": {
        "id": "view-in-github",
        "colab_type": "text"
      },
      "source": [
        "<a href=\"https://colab.research.google.com/github/koseongboy/helloworld/blob/main/helloworld_20210042.ipynb\" target=\"_parent\"><img src=\"https://colab.research.google.com/assets/colab-badge.svg\" alt=\"Open In Colab\"/></a>"
      ]
    },
    {
      "cell_type": "code",
      "metadata": {
        "colab": {
          "base_uri": "https://localhost:8080/"
        },
        "id": "9k7sKZsLH0Bt",
        "outputId": "448e02c8-d917-406a-b0c5-3a047e2dff57"
      },
      "source": [
        "print('Hello World!')\n",
        "id = 20210042\n",
        "print(id)"
      ],
      "execution_count": 3,
      "outputs": [
        {
          "output_type": "stream",
          "text": [
            "Hello World!\n",
            "20210042\n"
          ],
          "name": "stdout"
        }
      ]
    }
  ]
}