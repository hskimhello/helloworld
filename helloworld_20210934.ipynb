{
  "nbformat": 4,
  "nbformat_minor": 0,
  "metadata": {
    "colab": {
      "name": "helloworld_20210934.ipynb",
      "provenance": [],
      "authorship_tag": "ABX9TyOrY0o0w1UmVcoAz/v1sc2F",
      "include_colab_link": true
    },
    "kernelspec": {
      "name": "python3",
      "display_name": "Python 3"
    },
    "language_info": {
      "name": "python"
    },
    "accelerator": "GPU"
  },
  "cells": [
    {
      "cell_type": "markdown",
      "metadata": {
        "id": "view-in-github",
        "colab_type": "text"
      },
      "source": [
        "<a href=\"https://colab.research.google.com/github/alsrudrl1220/helloworld/blob/main/helloworld_20210934.ipynb\" target=\"_parent\"><img src=\"https://colab.research.google.com/assets/colab-badge.svg\" alt=\"Open In Colab\"/></a>"
      ]
    },
    {
      "cell_type": "code",
      "metadata": {
        "id": "R_1_TTu0CX6n"
      },
      "source": [
        "print(\"Hello world!\")\n",
        "id = 20210934\n",
        "print(id)"
      ],
      "execution_count": null,
      "outputs": []
    }
  ]
}