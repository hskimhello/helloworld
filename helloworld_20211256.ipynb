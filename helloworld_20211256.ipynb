{
  "nbformat": 4,
  "nbformat_minor": 0,
  "metadata": {
    "colab": {
      "name": "helloworld_20211256.ipynb",
      "provenance": [],
      "authorship_tag": "ABX9TyPmrBghPXw9X5akkEDLjUGY",
      "include_colab_link": true
    },
    "kernelspec": {
      "name": "python3",
      "display_name": "Python 3"
    },
    "language_info": {
      "name": "python"
    }
  },
  "cells": [
    {
      "cell_type": "markdown",
      "metadata": {
        "id": "view-in-github",
        "colab_type": "text"
      },
      "source": [
        "<a href=\"https://colab.research.google.com/github/1015s/helloworld/blob/main/helloworld_20211256.ipynb\" target=\"_parent\"><img src=\"https://colab.research.google.com/assets/colab-badge.svg\" alt=\"Open In Colab\"/></a>"
      ]
    },
    {
      "cell_type": "code",
      "metadata": {
        "colab": {
          "base_uri": "https://localhost:8080/"
        },
        "id": "3YcjGh7tjXzp",
        "outputId": "87784075-1dad-43d3-b6e1-4215a446cf3f"
      },
      "source": [
        "print (\"Hello World\")\n",
        "id = 20211256\n",
        "print(id)"
      ],
      "execution_count": 1,
      "outputs": [
        {
          "output_type": "stream",
          "text": [
            "Hello World\n",
            "20211256\n"
          ],
          "name": "stdout"
        }
      ]
    }
  ]
}