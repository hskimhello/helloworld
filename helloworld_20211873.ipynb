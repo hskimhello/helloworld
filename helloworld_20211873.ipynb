{
  "nbformat": 4,
  "nbformat_minor": 0,
  "metadata": {
    "colab": {
      "name": "helloworld_20211873.ipynb",
      "provenance": [],
      "authorship_tag": "ABX9TyMkKYfDlmGQ7HEjLnemxOe6",
      "include_colab_link": true
    },
    "kernelspec": {
      "name": "python3",
      "display_name": "Python 3"
    },
    "language_info": {
      "name": "python"
    }
  },
  "cells": [
    {
      "cell_type": "markdown",
      "metadata": {
        "id": "view-in-github",
        "colab_type": "text"
      },
      "source": [
        "<a href=\"https://colab.research.google.com/github/luckylee524/helloworld/blob/main/helloworld_20211873.ipynb\" target=\"_parent\"><img src=\"https://colab.research.google.com/assets/colab-badge.svg\" alt=\"Open In Colab\"/></a>"
      ]
    },
    {
      "cell_type": "code",
      "metadata": {
        "colab": {
          "base_uri": "https://localhost:8080/"
        },
        "id": "KxQuvohiEDKr",
        "outputId": "45fc6ad9-7060-4c1b-8afc-f011e2459288"
      },
      "source": [
        "print(\"Hello world!!\")\n",
        "id = 20211873\n",
        "print(id)"
      ],
      "execution_count": 1,
      "outputs": [
        {
          "output_type": "stream",
          "text": [
            "Hello world!!\n",
            "20211873\n"
          ],
          "name": "stdout"
        }
      ]
    }
  ]
}