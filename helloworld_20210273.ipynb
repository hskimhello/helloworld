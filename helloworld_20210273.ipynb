{
  "nbformat": 4,
  "nbformat_minor": 0,
  "metadata": {
    "colab": {
      "name": "helloworld_20210273.ipynb",
      "provenance": [],
      "authorship_tag": "ABX9TyMyJ+wD2IB4qBGVbdwKFyKS",
      "include_colab_link": true
    },
    "kernelspec": {
      "name": "python3",
      "display_name": "Python 3"
    },
    "language_info": {
      "name": "python"
    }
  },
  "cells": [
    {
      "cell_type": "markdown",
      "metadata": {
        "id": "view-in-github",
        "colab_type": "text"
      },
      "source": [
        "<a href=\"https://colab.research.google.com/github/XDKKK/helloworld/blob/main/helloworld_20210273.ipynb\" target=\"_parent\"><img src=\"https://colab.research.google.com/assets/colab-badge.svg\" alt=\"Open In Colab\"/></a>"
      ]
    },
    {
      "cell_type": "code",
      "metadata": {
        "id": "sKbZlc9Ejc5h",
        "colab": {
          "base_uri": "https://localhost:8080/"
        },
        "outputId": "a1ace49a-4bbe-4262-b7c5-576e59183241"
      },
      "source": [
        "print(\"Hello wolrd!!\")\n",
        "id = 20210273\n",
        "print(id)"
      ],
      "execution_count": 1,
      "outputs": [
        {
          "output_type": "stream",
          "text": [
            "Hello wolrd!!\n",
            "20210273\n"
          ],
          "name": "stdout"
        }
      ]
    }
  ]
}