{
  "nbformat": 4,
  "nbformat_minor": 0,
  "metadata": {
    "colab": {
      "name": "helloworld_20210438.ipynb",
      "provenance": [],
      "authorship_tag": "ABX9TyNRfNSuNPItkAchrsYTsJBf",
      "include_colab_link": true
    },
    "kernelspec": {
      "name": "python3",
      "display_name": "Python 3"
    },
    "language_info": {
      "name": "python"
    }
  },
  "cells": [
    {
      "cell_type": "markdown",
      "metadata": {
        "id": "view-in-github",
        "colab_type": "text"
      },
      "source": [
        "<a href=\"https://colab.research.google.com/github/dlqudgusdlqudgus/helloworld/blob/main/helloworld_20210438.ipynb\" target=\"_parent\"><img src=\"https://colab.research.google.com/assets/colab-badge.svg\" alt=\"Open In Colab\"/></a>"
      ]
    },
    {
      "cell_type": "code",
      "metadata": {
        "id": "-325yMJDC8u_"
      },
      "source": [
        "print(\"Hello World!\")\n",
        "id = 20210438\n",
        "print(id)"
      ],
      "execution_count": null,
      "outputs": []
    }
  ]
}