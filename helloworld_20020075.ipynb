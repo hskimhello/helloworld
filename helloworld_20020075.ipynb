{
  "nbformat": 4,
  "nbformat_minor": 0,
  "metadata": {
    "colab": {
      "name": "helloworld_20020075.ipynb",
      "provenance": [],
      "authorship_tag": "ABX9TyNCG8BWNthM8IbJDnUoOJ4g",
      "include_colab_link": true
    },
    "kernelspec": {
      "name": "python3",
      "display_name": "Python 3"
    },
    "language_info": {
      "name": "python"
    }
  },
  "cells": [
    {
      "cell_type": "markdown",
      "metadata": {
        "id": "view-in-github",
        "colab_type": "text"
      },
      "source": [
        "<a href=\"https://colab.research.google.com/github/dlawogud000/helloworld-1/blob/main/helloworld_20020075.ipynb\" target=\"_parent\"><img src=\"https://colab.research.google.com/assets/colab-badge.svg\" alt=\"Open In Colab\"/></a>"
      ]
    },
    {
      "cell_type": "code",
      "metadata": {
        "colab": {
          "base_uri": "https://localhost:8080/"
        },
        "id": "MDm9VmmK1T_f",
        "outputId": "b1f0a017-b323-44ba-9e1a-75a21a1765b3"
      },
      "source": [
        "print(\"Hello world!!\")\n",
        "id = 20210075\n",
        "print(id)"
      ],
      "execution_count": 1,
      "outputs": [
        {
          "output_type": "stream",
          "text": [
            "Hello world!!\n",
            "20210075\n"
          ],
          "name": "stdout"
        }
      ]
    }
  ]
}