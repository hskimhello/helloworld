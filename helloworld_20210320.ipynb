{
  "nbformat": 4,
  "nbformat_minor": 0,
  "metadata": {
    "colab": {
      "name": "helloworld_20210320.ipynb",
      "provenance": [],
      "authorship_tag": "ABX9TyM/zDRZyUG+zBHFkXdUr1Zk",
      "include_colab_link": true
    },
    "kernelspec": {
      "name": "python3",
      "display_name": "Python 3"
    },
    "language_info": {
      "name": "python"
    }
  },
  "cells": [
    {
      "cell_type": "markdown",
      "metadata": {
        "id": "view-in-github",
        "colab_type": "text"
      },
      "source": [
        "<a href=\"https://colab.research.google.com/github/mozdw/helloworld/blob/main/helloworld_20210320.ipynb\" target=\"_parent\"><img src=\"https://colab.research.google.com/assets/colab-badge.svg\" alt=\"Open In Colab\"/></a>"
      ]
    },
    {
      "cell_type": "code",
      "metadata": {
        "colab": {
          "base_uri": "https://localhost:8080/"
        },
        "id": "Cz7wlLB5DDwh",
        "outputId": "4d1cbf8e-e3e2-4269-ad6a-3a58e8ed318d"
      },
      "source": [
        "print(\"hello world~\")\n",
        "id = 20210000\n",
        "id += 320\n",
        "print(id)"
      ],
      "execution_count": 1,
      "outputs": [
        {
          "output_type": "stream",
          "text": [
            "hello world~\n",
            "20210320\n"
          ],
          "name": "stdout"
        }
      ]
    }
  ]
}