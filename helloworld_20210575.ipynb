{
  "nbformat": 4,
  "nbformat_minor": 0,
  "metadata": {
    "colab": {
      "name": "helloworld_20210575.ipynb",
      "provenance": [],
      "authorship_tag": "ABX9TyOfZLWJFq00KnvufFpEoG1u",
      "include_colab_link": true
    },
    "kernelspec": {
      "name": "python3",
      "display_name": "Python 3"
    },
    "language_info": {
      "name": "python"
    }
  },
  "cells": [
    {
      "cell_type": "markdown",
      "metadata": {
        "id": "view-in-github",
        "colab_type": "text"
      },
      "source": [
        "<a href=\"https://colab.research.google.com/github/meanvaluetheorem/helloworld/blob/main/helloworld_20210575.ipynb\" target=\"_parent\"><img src=\"https://colab.research.google.com/assets/colab-badge.svg\" alt=\"Open In Colab\"/></a>"
      ]
    },
    {
      "cell_type": "code",
      "metadata": {
        "id": "S8q3x4MXISBF"
      },
      "source": [
        "print(\"Hello World!\")\n",
        "id = 20210575\n",
        "print(id)"
      ],
      "execution_count": null,
      "outputs": []
    }
  ]
}