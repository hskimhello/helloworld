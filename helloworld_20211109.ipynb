{
  "nbformat": 4,
  "nbformat_minor": 0,
  "metadata": {
    "colab": {
      "name": "helloworld_20211109.ipynb",
      "provenance": [],
      "authorship_tag": "ABX9TyPrMkwr6dxMiMZMHQN8yQ3Z",
      "include_colab_link": true
    },
    "kernelspec": {
      "name": "python3",
      "display_name": "Python 3"
    },
    "language_info": {
      "name": "python"
    }
  },
  "cells": [
    {
      "cell_type": "markdown",
      "metadata": {
        "id": "view-in-github",
        "colab_type": "text"
      },
      "source": [
        "<a href=\"https://colab.research.google.com/github/BHW-1224/helloworld/blob/main/helloworld_20211109.ipynb\" target=\"_parent\"><img src=\"https://colab.research.google.com/assets/colab-badge.svg\" alt=\"Open In Colab\"/></a>"
      ]
    },
    {
      "cell_type": "code",
      "metadata": {
        "colab": {
          "base_uri": "https://localhost:8080/"
        },
        "id": "M_EB1nyrIydE",
        "outputId": "ec4c12cb-c332-42ec-a5f0-102ff02b2153"
      },
      "source": [
        "print('hello world!!')\n",
        "id = 20211109\n",
        "print(id)"
      ],
      "execution_count": 1,
      "outputs": [
        {
          "output_type": "stream",
          "text": [
            "hello world!!\n",
            "20211109\n"
          ],
          "name": "stdout"
        }
      ]
    }
  ]
}