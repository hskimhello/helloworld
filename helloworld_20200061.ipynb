{
  "nbformat": 4,
  "nbformat_minor": 0,
  "metadata": {
    "colab": {
      "name": "helloworld_20200061.ipynb",
      "provenance": [],
      "authorship_tag": "ABX9TyMpuOzR1Uh48EwlgFrxFtu5",
      "include_colab_link": true
    },
    "kernelspec": {
      "name": "python3",
      "display_name": "Python 3"
    },
    "language_info": {
      "name": "python"
    }
  },
  "cells": [
    {
      "cell_type": "markdown",
      "metadata": {
        "id": "view-in-github",
        "colab_type": "text"
      },
      "source": [
        "<a href=\"https://colab.research.google.com/github/JaehyunLee7/helloworld/blob/main/helloworld_20200061.ipynb\" target=\"_parent\"><img src=\"https://colab.research.google.com/assets/colab-badge.svg\" alt=\"Open In Colab\"/></a>"
      ]
    },
    {
      "cell_type": "code",
      "metadata": {
        "colab": {
          "base_uri": "https://localhost:8080/"
        },
        "id": "v8v5U1CkrWVn",
        "outputId": "b7761266-db21-4e42-9c43-5ba48c170836"
      },
      "source": [
        "print('Hello World')\n",
        "id = 20200061\n",
        "print(id)"
      ],
      "execution_count": 2,
      "outputs": [
        {
          "output_type": "stream",
          "text": [
            "Hello World\n",
            "20200061\n"
          ],
          "name": "stdout"
        }
      ]
    }
  ]
}