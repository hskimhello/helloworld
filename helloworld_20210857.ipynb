{
  "nbformat": 4,
  "nbformat_minor": 0,
  "metadata": {
    "colab": {
      "name": "helloworld_20210857.ipynb",
      "provenance": [],
      "authorship_tag": "ABX9TyNgB9LwZeDqlA1PHxYeEoCC",
      "include_colab_link": true
    },
    "kernelspec": {
      "name": "python3",
      "display_name": "Python 3"
    },
    "language_info": {
      "name": "python"
    }
  },
  "cells": [
    {
      "cell_type": "markdown",
      "metadata": {
        "id": "view-in-github",
        "colab_type": "text"
      },
      "source": [
        "<a href=\"https://colab.research.google.com/github/sseobi16/helloworld/blob/main/helloworld_20210857.ipynb\" target=\"_parent\"><img src=\"https://colab.research.google.com/assets/colab-badge.svg\" alt=\"Open In Colab\"/></a>"
      ]
    },
    {
      "cell_type": "markdown",
      "metadata": {
        "id": "rxxuesk3tNa4"
      },
      "source": [
        "this is text cell"
      ]
    },
    {
      "cell_type": "code",
      "metadata": {
        "colab": {
          "base_uri": "https://localhost:8080/"
        },
        "id": "1Byzn-5OsZhb",
        "outputId": "435db371-3baa-482f-a6aa-cd28369ba20f"
      },
      "source": [
        "print('Hello world!!')\n",
        "id = 20210857\n",
        "print(id)"
      ],
      "execution_count": 1,
      "outputs": [
        {
          "output_type": "stream",
          "text": [
            "Hello world!!\n",
            "20210857\n"
          ],
          "name": "stdout"
        }
      ]
    }
  ]
}