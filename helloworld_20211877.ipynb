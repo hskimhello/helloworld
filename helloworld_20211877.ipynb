{
  "nbformat": 4,
  "nbformat_minor": 0,
  "metadata": {
    "colab": {
      "name": "helloworld_20211877.ipynb",
      "provenance": [],
      "authorship_tag": "ABX9TyOAJ2i2m1tDVcqT09gko7ZE",
      "include_colab_link": true
    },
    "kernelspec": {
      "name": "python3",
      "display_name": "Python 3"
    },
    "language_info": {
      "name": "python"
    }
  },
  "cells": [
    {
      "cell_type": "markdown",
      "metadata": {
        "id": "view-in-github",
        "colab_type": "text"
      },
      "source": [
        "<a href=\"https://colab.research.google.com/github/lee1026td/helloworld/blob/main/helloworld_20211877.ipynb\" target=\"_parent\"><img src=\"https://colab.research.google.com/assets/colab-badge.svg\" alt=\"Open In Colab\"/></a>"
      ]
    },
    {
      "cell_type": "code",
      "metadata": {
        "colab": {
          "base_uri": "https://localhost:8080/"
        },
        "id": "bLHBJyFhmstb",
        "outputId": "e0867f2e-946b-44f5-8918-fdbd1e1996e3"
      },
      "source": [
        "print(\"Hello World!!\")\n",
        "id = 20211877\n",
        "print(id)"
      ],
      "execution_count": 1,
      "outputs": [
        {
          "output_type": "stream",
          "text": [
            "Hello World!!\n",
            "20211877\n"
          ],
          "name": "stdout"
        }
      ]
    }
  ]
}