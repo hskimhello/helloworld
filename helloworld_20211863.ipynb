{
  "nbformat": 4,
  "nbformat_minor": 0,
  "metadata": {
    "colab": {
      "name": "helloworld_20211863.ipynb",
      "provenance": [],
      "collapsed_sections": [],
      "authorship_tag": "ABX9TyNOk6aeoeUv8k81Ry2UPQm5",
      "include_colab_link": true
    },
    "kernelspec": {
      "name": "python3",
      "display_name": "Python 3"
    },
    "language_info": {
      "name": "python"
    }
  },
  "cells": [
    {
      "cell_type": "markdown",
      "metadata": {
        "id": "view-in-github",
        "colab_type": "text"
      },
      "source": [
        "<a href=\"https://colab.research.google.com/github/vonvolous/helloworld/blob/main/helloworld_20211863.ipynb\" target=\"_parent\"><img src=\"https://colab.research.google.com/assets/colab-badge.svg\" alt=\"Open In Colab\"/></a>"
      ]
    },
    {
      "cell_type": "code",
      "metadata": {
        "colab": {
          "base_uri": "https://localhost:8080/"
        },
        "id": "Zk1qjUHL92Jk",
        "outputId": "b60c35b7-f4e3-4300-e82c-42fb7f044ab9"
      },
      "source": [
        "print(\"Hello World!!\")\n",
        "id=20211863\n",
        "print(id)"
      ],
      "execution_count": 3,
      "outputs": [
        {
          "output_type": "stream",
          "text": [
            "Hello World!!\n",
            "20211863\n"
          ],
          "name": "stdout"
        }
      ]
    }
  ]
}